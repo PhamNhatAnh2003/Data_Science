{
 "cells": [
  {
   "cell_type": "markdown",
   "id": "e9b93048",
   "metadata": {},
   "source": [
    "# Thu thập dữ liệu xe ô tô\n",
    "\n",
    "Notebook này sử dụng các scraper đã xây dựng trong thư mục `src/data` để thu thập dữ liệu xe ô tô từ các trang web."
   ]
  },
  {
   "cell_type": "code",
   "execution_count": 32,
   "id": "9c83c777",
   "metadata": {},
   "outputs": [
    {
     "name": "stdout",
     "output_type": "stream",
     "text": [
      "Project root: c:\\Users\\admin\\Documents\\GitHub\\Used_cars_prediction\n"
     ]
    }
   ],
   "source": [
    "import sys\n",
    "import os\n",
    "import pandas as pd\n",
    "import time\n",
    "from datetime import datetime\n",
    "# Tắt logging để tránh lỗi Unicode\n",
    "import logging\n",
    "logging.getLogger().setLevel(logging.ERROR)  # Chỉ hiển thị lỗi nghiêm trọng\n",
    "\n",
    "# Đường dẫn tới thư mục gốc dự án\n",
    "project_root = os.path.abspath(os.path.join(os.getcwd(), '..'))\n",
    "if project_root not in sys.path:\n",
    "    sys.path.append(project_root)\n",
    "    \n",
    "print(f\"Project root: {project_root}\")"
   ]
  },
  {
   "cell_type": "code",
   "execution_count": 33,
   "id": "eec31fce",
   "metadata": {},
   "outputs": [
    {
     "name": "stdout",
     "output_type": "stream",
     "text": [
      "Thư mục đã tồn tại: c:\\Users\\admin\\Documents\\GitHub\\Used_cars_prediction\\data\\raw\n"
     ]
    }
   ],
   "source": [
    "# Tạo thư mục data/raw nếu chưa tồn tại\n",
    "raw_data_dir = os.path.join(project_root, 'data', 'raw')\n",
    "if not os.path.exists(raw_data_dir):\n",
    "    os.makedirs(raw_data_dir)\n",
    "    print(f\"Đã tạo thư mục: {raw_data_dir}\")\n",
    "else:\n",
    "    print(f\"Thư mục đã tồn tại: {raw_data_dir}\")"
   ]
  },
  {
   "cell_type": "code",
   "execution_count": 34,
   "id": "9a6c51e0",
   "metadata": {},
   "outputs": [
    {
     "name": "stdout",
     "output_type": "stream",
     "text": [
      "Đã import BonBanhScraper từ src.data.scraper\n"
     ]
    }
   ],
   "source": [
    "# Import scraper\n",
    "# Kiểm tra nếu file scraper.py tồn tại trong thư mục hiện tại\n",
    "if os.path.exists('scraper.py'):\n",
    "    from scraper import BonBanhScraper\n",
    "    print(\"Đã import BonBanhScraper từ thư mục hiện tại\")\n",
    "else:\n",
    "    # Thử import từ thư mục src/data\n",
    "    try:\n",
    "        from src.data.scraper import BonBanhScraper\n",
    "        print(\"Đã import BonBanhScraper từ src.data.scraper\")\n",
    "    except ImportError:\n",
    "        # Nếu import từ module không thành công, import trực tiếp từ file\n",
    "        import importlib.util\n",
    "        \n",
    "        # Đường dẫn đến file scraper.py\n",
    "        scraper_path = os.path.join(project_root, 'src', 'data', 'scraper.py')\n",
    "        \n",
    "        if os.path.exists(scraper_path):\n",
    "            spec = importlib.util.spec_from_file_location(\"scraper\", scraper_path)\n",
    "            scraper_module = importlib.util.module_from_spec(spec)\n",
    "            sys.modules[\"scraper\"] = scraper_module\n",
    "            spec.loader.exec_module(scraper_module)\n",
    "            BonBanhScraper = scraper_module.BonBanhScraper\n",
    "            print(\"Đã import BonBanhScraper từ file trong src/data\")\n",
    "        else:\n",
    "            print(f\"Không tìm thấy file scraper.py tại: {scraper_path}\")\n",
    "            print(\"Vui lòng cung cấp đường dẫn đúng tới file scraper.py\")"
   ]
  },
  {
   "cell_type": "code",
   "execution_count": 35,
   "id": "b59e336b",
   "metadata": {},
   "outputs": [
    {
     "name": "stdout",
     "output_type": "stream",
     "text": [
      "Dữ liệu sẽ được lưu vào: c:\\Users\\admin\\Documents\\GitHub\\Used_cars_prediction\\data\\raw\\bonbanh_data.csv\n"
     ]
    }
   ],
   "source": [
    "# Cấu hình đường dẫn đầu ra\n",
    "output_path = os.path.join(project_root, 'data', 'raw', 'bonbanh_data.csv')\n",
    "print(f\"Dữ liệu sẽ được lưu vào: {output_path}\")\n",
    "\n",
    "# Khởi tạo scraper\n",
    "scraper = BonBanhScraper(base_url=\"https://bonbanh.com\", output_path=output_path)"
   ]
  },
  {
   "cell_type": "code",
   "execution_count": 36,
   "id": "89a6988b",
   "metadata": {},
   "outputs": [
    {
     "name": "stdout",
     "output_type": "stream",
     "text": [
      "Chuẩn bị thu thập dữ liệu từ tối đa 10 trang, với tối đa 1000000 xe\n"
     ]
    }
   ],
   "source": [
    "# Nhập các tham số thu thập dữ liệu\n",
    "max_pages = 10  # Số trang tối đa để thu thập (có thể thay đổi)\n",
    "max_cars = 1000000  # Số lượng xe tối đa (có thể thay đổi hoặc để None nếu muốn lấy tất cả)\n",
    "\n",
    "print(f\"Chuẩn bị thu thập dữ liệu từ tối đa {max_pages} trang, với tối đa {max_cars if max_cars else 'tất cả'} xe\")"
   ]
  },
  {
   "cell_type": "code",
   "execution_count": 37,
   "id": "8b801370",
   "metadata": {},
   "outputs": [
    {
     "name": "stdout",
     "output_type": "stream",
     "text": [
      "Bắt đầu thu thập dữ liệu lúc 2025-04-12 18:05:57\n",
      "\n",
      "1. Thu thập danh sách tin đăng...\n",
      "Đã thu thập được 200 tin đăng\n",
      "\n",
      "2. Thu thập thông tin chi tiết cho các xe...\n"
     ]
    },
    {
     "name": "stderr",
     "output_type": "stream",
     "text": [
      "--- Logging error ---\n",
      "Traceback (most recent call last):\n",
      "  File \"c:\\Users\\admin\\AppData\\Local\\Programs\\Python\\Python312\\Lib\\site-packages\\urllib3\\connectionpool.py\", line 789, in urlopen\n",
      "    response = self._make_request(\n",
      "               ^^^^^^^^^^^^^^^^^^^\n",
      "  File \"c:\\Users\\admin\\AppData\\Local\\Programs\\Python\\Python312\\Lib\\site-packages\\urllib3\\connectionpool.py\", line 536, in _make_request\n",
      "    response = conn.getresponse()\n",
      "               ^^^^^^^^^^^^^^^^^^\n",
      "  File \"c:\\Users\\admin\\AppData\\Local\\Programs\\Python\\Python312\\Lib\\site-packages\\urllib3\\connection.py\", line 507, in getresponse\n",
      "    httplib_response = super().getresponse()\n",
      "                       ^^^^^^^^^^^^^^^^^^^^^\n",
      "  File \"c:\\Users\\admin\\AppData\\Local\\Programs\\Python\\Python312\\Lib\\http\\client.py\", line 1423, in getresponse\n",
      "    response.begin()\n",
      "  File \"c:\\Users\\admin\\AppData\\Local\\Programs\\Python\\Python312\\Lib\\http\\client.py\", line 331, in begin\n",
      "    version, status, reason = self._read_status()\n",
      "                              ^^^^^^^^^^^^^^^^^^^\n",
      "  File \"c:\\Users\\admin\\AppData\\Local\\Programs\\Python\\Python312\\Lib\\http\\client.py\", line 300, in _read_status\n",
      "    raise RemoteDisconnected(\"Remote end closed connection without\"\n",
      "http.client.RemoteDisconnected: Remote end closed connection without response\n",
      "\n",
      "During handling of the above exception, another exception occurred:\n",
      "\n",
      "Traceback (most recent call last):\n",
      "  File \"c:\\Users\\admin\\AppData\\Local\\Programs\\Python\\Python312\\Lib\\site-packages\\requests\\adapters.py\", line 667, in send\n",
      "    resp = conn.urlopen(\n",
      "           ^^^^^^^^^^^^^\n",
      "  File \"c:\\Users\\admin\\AppData\\Local\\Programs\\Python\\Python312\\Lib\\site-packages\\urllib3\\connectionpool.py\", line 843, in urlopen\n",
      "    retries = retries.increment(\n",
      "              ^^^^^^^^^^^^^^^^^^\n",
      "  File \"c:\\Users\\admin\\AppData\\Local\\Programs\\Python\\Python312\\Lib\\site-packages\\urllib3\\util\\retry.py\", line 474, in increment\n",
      "    raise reraise(type(error), error, _stacktrace)\n",
      "          ^^^^^^^^^^^^^^^^^^^^^^^^^^^^^^^^^^^^^^^^\n",
      "  File \"c:\\Users\\admin\\AppData\\Local\\Programs\\Python\\Python312\\Lib\\site-packages\\urllib3\\util\\util.py\", line 38, in reraise\n",
      "    raise value.with_traceback(tb)\n",
      "  File \"c:\\Users\\admin\\AppData\\Local\\Programs\\Python\\Python312\\Lib\\site-packages\\urllib3\\connectionpool.py\", line 789, in urlopen\n",
      "    response = self._make_request(\n",
      "               ^^^^^^^^^^^^^^^^^^^\n",
      "  File \"c:\\Users\\admin\\AppData\\Local\\Programs\\Python\\Python312\\Lib\\site-packages\\urllib3\\connectionpool.py\", line 536, in _make_request\n",
      "    response = conn.getresponse()\n",
      "               ^^^^^^^^^^^^^^^^^^\n",
      "  File \"c:\\Users\\admin\\AppData\\Local\\Programs\\Python\\Python312\\Lib\\site-packages\\urllib3\\connection.py\", line 507, in getresponse\n",
      "    httplib_response = super().getresponse()\n",
      "                       ^^^^^^^^^^^^^^^^^^^^^\n",
      "  File \"c:\\Users\\admin\\AppData\\Local\\Programs\\Python\\Python312\\Lib\\http\\client.py\", line 1423, in getresponse\n",
      "    response.begin()\n",
      "  File \"c:\\Users\\admin\\AppData\\Local\\Programs\\Python\\Python312\\Lib\\http\\client.py\", line 331, in begin\n",
      "    version, status, reason = self._read_status()\n",
      "                              ^^^^^^^^^^^^^^^^^^^\n",
      "  File \"c:\\Users\\admin\\AppData\\Local\\Programs\\Python\\Python312\\Lib\\http\\client.py\", line 300, in _read_status\n",
      "    raise RemoteDisconnected(\"Remote end closed connection without\"\n",
      "urllib3.exceptions.ProtocolError: ('Connection aborted.', RemoteDisconnected('Remote end closed connection without response'))\n",
      "\n",
      "During handling of the above exception, another exception occurred:\n",
      "\n",
      "Traceback (most recent call last):\n",
      "  File \"c:\\Users\\admin\\Documents\\GitHub\\Used_cars_prediction\\src\\data\\scraper.py\", line 42, in get_page\n",
      "    response = self.session.get(url, headers=self.headers, timeout=30)\n",
      "               ^^^^^^^^^^^^^^^^^^^^^^^^^^^^^^^^^^^^^^^^^^^^^^^^^^^^^^^\n",
      "  File \"c:\\Users\\admin\\AppData\\Local\\Programs\\Python\\Python312\\Lib\\site-packages\\requests\\sessions.py\", line 602, in get\n",
      "    return self.request(\"GET\", url, **kwargs)\n",
      "           ^^^^^^^^^^^^^^^^^^^^^^^^^^^^^^^^^^\n",
      "  File \"c:\\Users\\admin\\AppData\\Local\\Programs\\Python\\Python312\\Lib\\site-packages\\requests\\sessions.py\", line 589, in request\n",
      "    resp = self.send(prep, **send_kwargs)\n",
      "           ^^^^^^^^^^^^^^^^^^^^^^^^^^^^^^\n",
      "  File \"c:\\Users\\admin\\AppData\\Local\\Programs\\Python\\Python312\\Lib\\site-packages\\requests\\sessions.py\", line 703, in send\n",
      "    r = adapter.send(request, **kwargs)\n",
      "        ^^^^^^^^^^^^^^^^^^^^^^^^^^^^^^^\n",
      "  File \"c:\\Users\\admin\\AppData\\Local\\Programs\\Python\\Python312\\Lib\\site-packages\\requests\\adapters.py\", line 682, in send\n",
      "    raise ConnectionError(err, request=request)\n",
      "requests.exceptions.ConnectionError: ('Connection aborted.', RemoteDisconnected('Remote end closed connection without response'))\n",
      "\n",
      "During handling of the above exception, another exception occurred:\n",
      "\n",
      "Traceback (most recent call last):\n",
      "  File \"c:\\Users\\admin\\AppData\\Local\\Programs\\Python\\Python312\\Lib\\logging\\__init__.py\", line 1163, in emit\n",
      "    stream.write(msg + self.terminator)\n",
      "  File \"c:\\Users\\admin\\AppData\\Local\\Programs\\Python\\Python312\\Lib\\encodings\\cp1252.py\", line 19, in encode\n",
      "    return codecs.charmap_encode(input,self.errors,encoding_table)[0]\n",
      "           ^^^^^^^^^^^^^^^^^^^^^^^^^^^^^^^^^^^^^^^^^^^^^^^^^^^^^^^\n",
      "UnicodeEncodeError: 'charmap' codec can't encode character '\\u1ed7' in position 35: character maps to <undefined>\n",
      "Call stack:\n",
      "  File \"<frozen runpy>\", line 198, in _run_module_as_main\n",
      "  File \"<frozen runpy>\", line 88, in _run_code\n",
      "  File \"C:\\Users\\admin\\AppData\\Roaming\\Python\\Python312\\site-packages\\ipykernel_launcher.py\", line 18, in <module>\n",
      "    app.launch_new_instance()\n",
      "  File \"C:\\Users\\admin\\AppData\\Roaming\\Python\\Python312\\site-packages\\traitlets\\config\\application.py\", line 1075, in launch_instance\n",
      "    app.start()\n",
      "  File \"C:\\Users\\admin\\AppData\\Roaming\\Python\\Python312\\site-packages\\ipykernel\\kernelapp.py\", line 739, in start\n",
      "    self.io_loop.start()\n",
      "  File \"c:\\Users\\admin\\AppData\\Local\\Programs\\Python\\Python312\\Lib\\site-packages\\tornado\\platform\\asyncio.py\", line 205, in start\n",
      "    self.asyncio_loop.run_forever()\n",
      "  File \"c:\\Users\\admin\\AppData\\Local\\Programs\\Python\\Python312\\Lib\\asyncio\\base_events.py\", line 639, in run_forever\n",
      "    self._run_once()\n",
      "  File \"c:\\Users\\admin\\AppData\\Local\\Programs\\Python\\Python312\\Lib\\asyncio\\base_events.py\", line 1985, in _run_once\n",
      "    handle._run()\n",
      "  File \"c:\\Users\\admin\\AppData\\Local\\Programs\\Python\\Python312\\Lib\\asyncio\\events.py\", line 88, in _run\n",
      "    self._context.run(self._callback, *self._args)\n",
      "  File \"C:\\Users\\admin\\AppData\\Roaming\\Python\\Python312\\site-packages\\ipykernel\\kernelbase.py\", line 545, in dispatch_queue\n",
      "    await self.process_one()\n",
      "  File \"C:\\Users\\admin\\AppData\\Roaming\\Python\\Python312\\site-packages\\ipykernel\\kernelbase.py\", line 534, in process_one\n",
      "    await dispatch(*args)\n",
      "  File \"C:\\Users\\admin\\AppData\\Roaming\\Python\\Python312\\site-packages\\ipykernel\\kernelbase.py\", line 437, in dispatch_shell\n",
      "    await result\n",
      "  File \"C:\\Users\\admin\\AppData\\Roaming\\Python\\Python312\\site-packages\\ipykernel\\ipkernel.py\", line 362, in execute_request\n",
      "    await super().execute_request(stream, ident, parent)\n",
      "  File \"C:\\Users\\admin\\AppData\\Roaming\\Python\\Python312\\site-packages\\ipykernel\\kernelbase.py\", line 778, in execute_request\n",
      "    reply_content = await reply_content\n",
      "  File \"C:\\Users\\admin\\AppData\\Roaming\\Python\\Python312\\site-packages\\ipykernel\\ipkernel.py\", line 449, in do_execute\n",
      "    res = shell.run_cell(\n",
      "  File \"C:\\Users\\admin\\AppData\\Roaming\\Python\\Python312\\site-packages\\ipykernel\\zmqshell.py\", line 549, in run_cell\n",
      "    return super().run_cell(*args, **kwargs)\n",
      "  File \"C:\\Users\\admin\\AppData\\Roaming\\Python\\Python312\\site-packages\\IPython\\core\\interactiveshell.py\", line 3098, in run_cell\n",
      "    result = self._run_cell(\n",
      "  File \"C:\\Users\\admin\\AppData\\Roaming\\Python\\Python312\\site-packages\\IPython\\core\\interactiveshell.py\", line 3153, in _run_cell\n",
      "    result = runner(coro)\n",
      "  File \"C:\\Users\\admin\\AppData\\Roaming\\Python\\Python312\\site-packages\\IPython\\core\\async_helpers.py\", line 128, in _pseudo_sync_runner\n",
      "    coro.send(None)\n",
      "  File \"C:\\Users\\admin\\AppData\\Roaming\\Python\\Python312\\site-packages\\IPython\\core\\interactiveshell.py\", line 3362, in run_cell_async\n",
      "    has_raised = await self.run_ast_nodes(code_ast.body, cell_name,\n",
      "  File \"C:\\Users\\admin\\AppData\\Roaming\\Python\\Python312\\site-packages\\IPython\\core\\interactiveshell.py\", line 3607, in run_ast_nodes\n",
      "    if await self.run_code(code, result, async_=asy):\n",
      "  File \"C:\\Users\\admin\\AppData\\Roaming\\Python\\Python312\\site-packages\\IPython\\core\\interactiveshell.py\", line 3667, in run_code\n",
      "    exec(code_obj, self.user_global_ns, self.user_ns)\n",
      "  File \"C:\\Users\\admin\\AppData\\Local\\Temp\\ipykernel_29456\\3968481350.py\", line 13, in <module>\n",
      "    car_details = scraper.scrape_car_details(listings, max_cars=max_cars)\n",
      "  File \"c:\\Users\\admin\\Documents\\GitHub\\Used_cars_prediction\\src\\data\\scraper.py\", line 301, in scrape_car_details\n",
      "    html = self.get_page(url)\n",
      "  File \"c:\\Users\\admin\\Documents\\GitHub\\Used_cars_prediction\\src\\data\\scraper.py\", line 46, in get_page\n",
      "    logger.error(f\"Lỗi khi tải trang {url}: {e}\")\n",
      "Message: \"Lỗi khi tải trang https://bonbanh.com/xe-toyota-wigo-g-1.2-at-2024-6163993: ('Connection aborted.', RemoteDisconnected('Remote end closed connection without response'))\"\n",
      "Arguments: ()\n",
      "2025-04-12 18:08:02,699 - ERROR - Lỗi khi tải trang https://bonbanh.com/xe-toyota-wigo-g-1.2-at-2024-6163993: ('Connection aborted.', RemoteDisconnected('Remote end closed connection without response'))\n"
     ]
    },
    {
     "ename": "KeyboardInterrupt",
     "evalue": "",
     "output_type": "error",
     "traceback": [
      "\u001b[31m---------------------------------------------------------------------------\u001b[39m",
      "\u001b[31mKeyboardInterrupt\u001b[39m                         Traceback (most recent call last)",
      "\u001b[36mCell\u001b[39m\u001b[36m \u001b[39m\u001b[32mIn[37]\u001b[39m\u001b[32m, line 13\u001b[39m\n\u001b[32m     11\u001b[39m \u001b[38;5;66;03m# Thu thập thông tin chi tiết\u001b[39;00m\n\u001b[32m     12\u001b[39m \u001b[38;5;28mprint\u001b[39m(\u001b[33m\"\u001b[39m\u001b[38;5;130;01m\\n\u001b[39;00m\u001b[33m2. Thu thập thông tin chi tiết cho các xe...\u001b[39m\u001b[33m\"\u001b[39m)\n\u001b[32m---> \u001b[39m\u001b[32m13\u001b[39m car_details = \u001b[43mscraper\u001b[49m\u001b[43m.\u001b[49m\u001b[43mscrape_car_details\u001b[49m\u001b[43m(\u001b[49m\u001b[43mlistings\u001b[49m\u001b[43m,\u001b[49m\u001b[43m \u001b[49m\u001b[43mmax_cars\u001b[49m\u001b[43m=\u001b[49m\u001b[43mmax_cars\u001b[49m\u001b[43m)\u001b[49m\n\u001b[32m     14\u001b[39m \u001b[38;5;28mprint\u001b[39m(\u001b[33mf\u001b[39m\u001b[33m\"\u001b[39m\u001b[33mĐã thu thập thông tin chi tiết cho \u001b[39m\u001b[38;5;132;01m{\u001b[39;00m\u001b[38;5;28mlen\u001b[39m(car_details)\u001b[38;5;132;01m}\u001b[39;00m\u001b[33m xe\u001b[39m\u001b[33m\"\u001b[39m)\n\u001b[32m     16\u001b[39m \u001b[38;5;66;03m# Lưu dữ liệu vào CSV\u001b[39;00m\n",
      "\u001b[36mFile \u001b[39m\u001b[32mc:\\Users\\admin\\Documents\\GitHub\\Used_cars_prediction\\src\\data\\scraper.py:314\u001b[39m, in \u001b[36mBonBanhScraper.scrape_car_details\u001b[39m\u001b[34m(self, listings, max_cars)\u001b[39m\n\u001b[32m    311\u001b[39m         logger.error(\u001b[33mf\u001b[39m\u001b[33m\"\u001b[39m\u001b[33mKhông thể phân tích trang chi tiết xe \u001b[39m\u001b[38;5;132;01m{\u001b[39;00murl\u001b[38;5;132;01m}\u001b[39;00m\u001b[33m\"\u001b[39m)\n\u001b[32m    313\u001b[39m     \u001b[38;5;66;03m# Tạm dừng để tránh bị hạn chế tốc độ\u001b[39;00m\n\u001b[32m--> \u001b[39m\u001b[32m314\u001b[39m     \u001b[43mtime\u001b[49m\u001b[43m.\u001b[49m\u001b[43msleep\u001b[49m\u001b[43m(\u001b[49m\u001b[43mrandom\u001b[49m\u001b[43m.\u001b[49m\u001b[43muniform\u001b[49m\u001b[43m(\u001b[49m\u001b[32;43m2\u001b[39;49m\u001b[43m,\u001b[49m\u001b[43m \u001b[49m\u001b[32;43m4\u001b[39;49m\u001b[43m)\u001b[49m\u001b[43m)\u001b[49m\n\u001b[32m    316\u001b[39m \u001b[38;5;28;01mreturn\u001b[39;00m car_details\n",
      "\u001b[31mKeyboardInterrupt\u001b[39m: "
     ]
    }
   ],
   "source": [
    "# Chạy scraper để thu thập dữ liệu\n",
    "start_time = time.time()\n",
    "\n",
    "print(f\"Bắt đầu thu thập dữ liệu lúc {datetime.now().strftime('%Y-%m-%d %H:%M:%S')}\")\n",
    "\n",
    "# Thu thập danh sách tin đăng\n",
    "print(\"\\n1. Thu thập danh sách tin đăng...\")\n",
    "listings = scraper.scrape_listings(max_pages=max_pages)\n",
    "print(f\"Đã thu thập được {len(listings)} tin đăng\")\n",
    "\n",
    "# Thu thập thông tin chi tiết\n",
    "print(\"\\n2. Thu thập thông tin chi tiết cho các xe...\")\n",
    "car_details = scraper.scrape_car_details(listings, max_cars=max_cars)\n",
    "print(f\"Đã thu thập thông tin chi tiết cho {len(car_details)} xe\")\n",
    "\n",
    "# Lưu dữ liệu vào CSV\n",
    "print(\"\\n3. Lưu dữ liệu vào file CSV...\")\n",
    "df = scraper.save_to_csv(car_details, output_path)\n",
    "print(f\"Đã lưu {len(car_details)} mẫu dữ liệu vào {output_path}\")\n",
    "\n",
    "# Tính thời gian thực hiện\n",
    "elapsed_time = time.time() - start_time\n",
    "print(f\"\\nTổng thời gian thu thập: {elapsed_time:.2f} giây\")"
   ]
  },
  {
   "cell_type": "code",
   "execution_count": null,
   "id": "6ad7ac2c",
   "metadata": {},
   "outputs": [],
   "source": [
    "# Hiển thị thông tin về dữ liệu đã thu thập\n",
    "print(f\"Đã thu thập {len(df)} mẫu dữ liệu với {len(df.columns)} thuộc tính\")\n",
    "print(f\"Các cột trong dữ liệu: {df.columns.tolist()}\")\n",
    "\n",
    "# Hiển thị 5 mẫu đầu tiên\n",
    "print(\"\\n5 mẫu đầu tiên:\")\n",
    "df.head(5)"
   ]
  }
 ],
 "metadata": {
  "kernelspec": {
   "display_name": "Python 3",
   "language": "python",
   "name": "python3"
  },
  "language_info": {
   "codemirror_mode": {
    "name": "ipython",
    "version": 3
   },
   "file_extension": ".py",
   "mimetype": "text/x-python",
   "name": "python",
   "nbconvert_exporter": "python",
   "pygments_lexer": "ipython3",
   "version": "3.12.2"
  }
 },
 "nbformat": 4,
 "nbformat_minor": 5
}
